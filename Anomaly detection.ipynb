{
 "cells": [
  {
   "cell_type": "markdown",
   "metadata": {},
   "source": [
    "## Anomaly Detection"
   ]
  },
  {
   "cell_type": "code",
   "execution_count": 57,
   "metadata": {},
   "outputs": [],
   "source": [
    "# importing relevant libraries\n",
    "import pandas as pd # data processing\n",
    "import numpy as np # linear algebra\n",
    "import matplotlib.pyplot as plt # data visualization\n",
    "import seaborn as sns # data visualization\n",
    "import warnings\n",
    "warnings.filterwarnings('ignore')"
   ]
  },
  {
   "cell_type": "code",
   "execution_count": 58,
   "metadata": {},
   "outputs": [
    {
     "data": {
      "text/html": [
       "<div>\n",
       "<style scoped>\n",
       "    .dataframe tbody tr th:only-of-type {\n",
       "        vertical-align: middle;\n",
       "    }\n",
       "\n",
       "    .dataframe tbody tr th {\n",
       "        vertical-align: top;\n",
       "    }\n",
       "\n",
       "    .dataframe thead th {\n",
       "        text-align: right;\n",
       "    }\n",
       "</style>\n",
       "<table border=\"1\" class=\"dataframe\">\n",
       "  <thead>\n",
       "    <tr style=\"text-align: right;\">\n",
       "      <th></th>\n",
       "      <th>id</th>\n",
       "      <th>feature_0</th>\n",
       "      <th>feature_1</th>\n",
       "      <th>feature_2</th>\n",
       "      <th>feature_3</th>\n",
       "      <th>feature_4</th>\n",
       "      <th>feature_5</th>\n",
       "      <th>is_anomaly</th>\n",
       "    </tr>\n",
       "  </thead>\n",
       "  <tbody>\n",
       "    <tr>\n",
       "      <th>0</th>\n",
       "      <td>49.0</td>\n",
       "      <td>41.522173</td>\n",
       "      <td>17.831610</td>\n",
       "      <td>18.995085</td>\n",
       "      <td>25.242932</td>\n",
       "      <td>117.764044</td>\n",
       "      <td>2.329207</td>\n",
       "      <td>0.0</td>\n",
       "    </tr>\n",
       "    <tr>\n",
       "      <th>1</th>\n",
       "      <td>121.0</td>\n",
       "      <td>83.497209</td>\n",
       "      <td>24.121826</td>\n",
       "      <td>86.338074</td>\n",
       "      <td>61.791046</td>\n",
       "      <td>123.025625</td>\n",
       "      <td>81.012567</td>\n",
       "      <td>0.0</td>\n",
       "    </tr>\n",
       "    <tr>\n",
       "      <th>2</th>\n",
       "      <td>102.0</td>\n",
       "      <td>69.829313</td>\n",
       "      <td>14.032896</td>\n",
       "      <td>61.295050</td>\n",
       "      <td>58.870125</td>\n",
       "      <td>104.616609</td>\n",
       "      <td>24.271153</td>\n",
       "      <td>0.0</td>\n",
       "    </tr>\n",
       "    <tr>\n",
       "      <th>3</th>\n",
       "      <td>209.0</td>\n",
       "      <td>46.040293</td>\n",
       "      <td>18.065444</td>\n",
       "      <td>35.688828</td>\n",
       "      <td>33.172466</td>\n",
       "      <td>92.871781</td>\n",
       "      <td>27.071795</td>\n",
       "      <td>0.0</td>\n",
       "    </tr>\n",
       "    <tr>\n",
       "      <th>4</th>\n",
       "      <td>66.0</td>\n",
       "      <td>79.930641</td>\n",
       "      <td>20.745121</td>\n",
       "      <td>59.491997</td>\n",
       "      <td>55.914779</td>\n",
       "      <td>119.464354</td>\n",
       "      <td>28.774285</td>\n",
       "      <td>0.0</td>\n",
       "    </tr>\n",
       "  </tbody>\n",
       "</table>\n",
       "</div>"
      ],
      "text/plain": [
       "      id  feature_0  feature_1  feature_2  feature_3   feature_4  feature_5   \n",
       "0   49.0  41.522173  17.831610  18.995085  25.242932  117.764044   2.329207  \\\n",
       "1  121.0  83.497209  24.121826  86.338074  61.791046  123.025625  81.012567   \n",
       "2  102.0  69.829313  14.032896  61.295050  58.870125  104.616609  24.271153   \n",
       "3  209.0  46.040293  18.065444  35.688828  33.172466   92.871781  27.071795   \n",
       "4   66.0  79.930641  20.745121  59.491997  55.914779  119.464354  28.774285   \n",
       "\n",
       "   is_anomaly  \n",
       "0         0.0  \n",
       "1         0.0  \n",
       "2         0.0  \n",
       "3         0.0  \n",
       "4         0.0  "
      ]
     },
     "execution_count": 58,
     "metadata": {},
     "output_type": "execute_result"
    }
   ],
   "source": [
    "# loading the dataset\n",
    "data = pd.read_csv('train.csv')\n",
    "# displaying the first five rows of the dataset\n",
    "data.head()"
   ]
  },
  {
   "cell_type": "code",
   "execution_count": 59,
   "metadata": {},
   "outputs": [
    {
     "data": {
      "text/html": [
       "<div>\n",
       "<style scoped>\n",
       "    .dataframe tbody tr th:only-of-type {\n",
       "        vertical-align: middle;\n",
       "    }\n",
       "\n",
       "    .dataframe tbody tr th {\n",
       "        vertical-align: top;\n",
       "    }\n",
       "\n",
       "    .dataframe thead th {\n",
       "        text-align: right;\n",
       "    }\n",
       "</style>\n",
       "<table border=\"1\" class=\"dataframe\">\n",
       "  <thead>\n",
       "    <tr style=\"text-align: right;\">\n",
       "      <th></th>\n",
       "      <th>id</th>\n",
       "      <th>feature_0</th>\n",
       "      <th>feature_1</th>\n",
       "      <th>feature_2</th>\n",
       "      <th>feature_3</th>\n",
       "      <th>feature_4</th>\n",
       "      <th>feature_5</th>\n",
       "      <th>is_anomaly</th>\n",
       "    </tr>\n",
       "  </thead>\n",
       "  <tbody>\n",
       "    <tr>\n",
       "      <th>139</th>\n",
       "      <td>145.0</td>\n",
       "      <td>86.145584</td>\n",
       "      <td>42.969055</td>\n",
       "      <td>79.462820</td>\n",
       "      <td>43.354901</td>\n",
       "      <td>105.427564</td>\n",
       "      <td>42.822378</td>\n",
       "      <td>0.0</td>\n",
       "    </tr>\n",
       "    <tr>\n",
       "      <th>140</th>\n",
       "      <td>87.0</td>\n",
       "      <td>45.576242</td>\n",
       "      <td>9.608312</td>\n",
       "      <td>45.307261</td>\n",
       "      <td>36.698602</td>\n",
       "      <td>130.878343</td>\n",
       "      <td>35.986642</td>\n",
       "      <td>0.0</td>\n",
       "    </tr>\n",
       "    <tr>\n",
       "      <th>141</th>\n",
       "      <td>192.0</td>\n",
       "      <td>73.067093</td>\n",
       "      <td>33.944117</td>\n",
       "      <td>65.816651</td>\n",
       "      <td>40.692548</td>\n",
       "      <td>148.581326</td>\n",
       "      <td>125.042068</td>\n",
       "      <td>0.0</td>\n",
       "    </tr>\n",
       "    <tr>\n",
       "      <th>142</th>\n",
       "      <td>131.0</td>\n",
       "      <td>70.756204</td>\n",
       "      <td>14.633980</td>\n",
       "      <td>59.128652</td>\n",
       "      <td>56.998068</td>\n",
       "      <td>116.424813</td>\n",
       "      <td>16.538899</td>\n",
       "      <td>0.0</td>\n",
       "    </tr>\n",
       "    <tr>\n",
       "      <th>143</th>\n",
       "      <td>162.0</td>\n",
       "      <td>117.895976</td>\n",
       "      <td>38.845083</td>\n",
       "      <td>50.015754</td>\n",
       "      <td>77.944265</td>\n",
       "      <td>80.887105</td>\n",
       "      <td>74.988412</td>\n",
       "      <td>0.0</td>\n",
       "    </tr>\n",
       "  </tbody>\n",
       "</table>\n",
       "</div>"
      ],
      "text/plain": [
       "        id   feature_0  feature_1  feature_2  feature_3   feature_4   \n",
       "139  145.0   86.145584  42.969055  79.462820  43.354901  105.427564  \\\n",
       "140   87.0   45.576242   9.608312  45.307261  36.698602  130.878343   \n",
       "141  192.0   73.067093  33.944117  65.816651  40.692548  148.581326   \n",
       "142  131.0   70.756204  14.633980  59.128652  56.998068  116.424813   \n",
       "143  162.0  117.895976  38.845083  50.015754  77.944265   80.887105   \n",
       "\n",
       "      feature_5  is_anomaly  \n",
       "139   42.822378         0.0  \n",
       "140   35.986642         0.0  \n",
       "141  125.042068         0.0  \n",
       "142   16.538899         0.0  \n",
       "143   74.988412         0.0  "
      ]
     },
     "execution_count": 59,
     "metadata": {},
     "output_type": "execute_result"
    }
   ],
   "source": [
    "# displaying the last five rows of the dataset\n",
    "data.tail()"
   ]
  },
  {
   "cell_type": "code",
   "execution_count": 60,
   "metadata": {},
   "outputs": [
    {
     "data": {
      "text/html": [
       "<div>\n",
       "<style scoped>\n",
       "    .dataframe tbody tr th:only-of-type {\n",
       "        vertical-align: middle;\n",
       "    }\n",
       "\n",
       "    .dataframe tbody tr th {\n",
       "        vertical-align: top;\n",
       "    }\n",
       "\n",
       "    .dataframe thead th {\n",
       "        text-align: right;\n",
       "    }\n",
       "</style>\n",
       "<table border=\"1\" class=\"dataframe\">\n",
       "  <thead>\n",
       "    <tr style=\"text-align: right;\">\n",
       "      <th></th>\n",
       "      <th>id</th>\n",
       "      <th>feature_0</th>\n",
       "      <th>feature_1</th>\n",
       "      <th>feature_2</th>\n",
       "      <th>feature_3</th>\n",
       "      <th>feature_4</th>\n",
       "      <th>feature_5</th>\n",
       "    </tr>\n",
       "  </thead>\n",
       "  <tbody>\n",
       "    <tr>\n",
       "      <th>0</th>\n",
       "      <td>76.0</td>\n",
       "      <td>88.157573</td>\n",
       "      <td>36.534704</td>\n",
       "      <td>69.591322</td>\n",
       "      <td>51.196027</td>\n",
       "      <td>138.524808</td>\n",
       "      <td>112.732747</td>\n",
       "    </tr>\n",
       "    <tr>\n",
       "      <th>1</th>\n",
       "      <td>15.0</td>\n",
       "      <td>44.045246</td>\n",
       "      <td>11.913953</td>\n",
       "      <td>36.958099</td>\n",
       "      <td>30.362537</td>\n",
       "      <td>123.838970</td>\n",
       "      <td>6.458098</td>\n",
       "    </tr>\n",
       "    <tr>\n",
       "      <th>2</th>\n",
       "      <td>196.0</td>\n",
       "      <td>63.225218</td>\n",
       "      <td>13.481326</td>\n",
       "      <td>63.388508</td>\n",
       "      <td>50.455107</td>\n",
       "      <td>91.520265</td>\n",
       "      <td>56.674993</td>\n",
       "    </tr>\n",
       "    <tr>\n",
       "      <th>3</th>\n",
       "      <td>77.0</td>\n",
       "      <td>59.635309</td>\n",
       "      <td>6.369510</td>\n",
       "      <td>52.696833</td>\n",
       "      <td>50.504349</td>\n",
       "      <td>100.221540</td>\n",
       "      <td>50.597632</td>\n",
       "    </tr>\n",
       "    <tr>\n",
       "      <th>4</th>\n",
       "      <td>166.0</td>\n",
       "      <td>56.913632</td>\n",
       "      <td>5.079858</td>\n",
       "      <td>57.683467</td>\n",
       "      <td>49.524329</td>\n",
       "      <td>110.618330</td>\n",
       "      <td>35.270323</td>\n",
       "    </tr>\n",
       "  </tbody>\n",
       "</table>\n",
       "</div>"
      ],
      "text/plain": [
       "      id  feature_0  feature_1  feature_2  feature_3   feature_4   feature_5\n",
       "0   76.0  88.157573  36.534704  69.591322  51.196027  138.524808  112.732747\n",
       "1   15.0  44.045246  11.913953  36.958099  30.362537  123.838970    6.458098\n",
       "2  196.0  63.225218  13.481326  63.388508  50.455107   91.520265   56.674993\n",
       "3   77.0  59.635309   6.369510  52.696833  50.504349  100.221540   50.597632\n",
       "4  166.0  56.913632   5.079858  57.683467  49.524329  110.618330   35.270323"
      ]
     },
     "execution_count": 60,
     "metadata": {},
     "output_type": "execute_result"
    }
   ],
   "source": [
    "# checking the test data\n",
    "test = pd.read_csv('test.csv')\n",
    "\n",
    "# dispalying the first five rows of the dataset\n",
    "test.head()"
   ]
  },
  {
   "cell_type": "code",
   "execution_count": 61,
   "metadata": {},
   "outputs": [
    {
     "data": {
      "text/html": [
       "<div>\n",
       "<style scoped>\n",
       "    .dataframe tbody tr th:only-of-type {\n",
       "        vertical-align: middle;\n",
       "    }\n",
       "\n",
       "    .dataframe tbody tr th {\n",
       "        vertical-align: top;\n",
       "    }\n",
       "\n",
       "    .dataframe thead th {\n",
       "        text-align: right;\n",
       "    }\n",
       "</style>\n",
       "<table border=\"1\" class=\"dataframe\">\n",
       "  <thead>\n",
       "    <tr style=\"text-align: right;\">\n",
       "      <th></th>\n",
       "      <th>id</th>\n",
       "      <th>feature_0</th>\n",
       "      <th>feature_1</th>\n",
       "      <th>feature_2</th>\n",
       "      <th>feature_3</th>\n",
       "      <th>feature_4</th>\n",
       "      <th>feature_5</th>\n",
       "    </tr>\n",
       "  </thead>\n",
       "  <tbody>\n",
       "    <tr>\n",
       "      <th>187</th>\n",
       "      <td>331.0</td>\n",
       "      <td>30.338050</td>\n",
       "      <td>12.176627</td>\n",
       "      <td>36.081465</td>\n",
       "      <td>18.803974</td>\n",
       "      <td>113.196968</td>\n",
       "      <td>11.373160</td>\n",
       "    </tr>\n",
       "    <tr>\n",
       "      <th>188</th>\n",
       "      <td>332.0</td>\n",
       "      <td>82.400782</td>\n",
       "      <td>17.717792</td>\n",
       "      <td>92.405161</td>\n",
       "      <td>60.085928</td>\n",
       "      <td>125.773256</td>\n",
       "      <td>38.400051</td>\n",
       "    </tr>\n",
       "    <tr>\n",
       "      <th>189</th>\n",
       "      <td>333.0</td>\n",
       "      <td>56.598372</td>\n",
       "      <td>19.522065</td>\n",
       "      <td>40.510776</td>\n",
       "      <td>39.638986</td>\n",
       "      <td>130.892334</td>\n",
       "      <td>23.229529</td>\n",
       "    </tr>\n",
       "    <tr>\n",
       "      <th>190</th>\n",
       "      <td>334.0</td>\n",
       "      <td>44.556363</td>\n",
       "      <td>10.393305</td>\n",
       "      <td>52.155626</td>\n",
       "      <td>36.103238</td>\n",
       "      <td>137.000202</td>\n",
       "      <td>29.187308</td>\n",
       "    </tr>\n",
       "    <tr>\n",
       "      <th>191</th>\n",
       "      <td>335.0</td>\n",
       "      <td>45.804489</td>\n",
       "      <td>10.645332</td>\n",
       "      <td>32.563488</td>\n",
       "      <td>33.168407</td>\n",
       "      <td>99.488750</td>\n",
       "      <td>6.246707</td>\n",
       "    </tr>\n",
       "  </tbody>\n",
       "</table>\n",
       "</div>"
      ],
      "text/plain": [
       "        id  feature_0  feature_1  feature_2  feature_3   feature_4  feature_5\n",
       "187  331.0  30.338050  12.176627  36.081465  18.803974  113.196968  11.373160\n",
       "188  332.0  82.400782  17.717792  92.405161  60.085928  125.773256  38.400051\n",
       "189  333.0  56.598372  19.522065  40.510776  39.638986  130.892334  23.229529\n",
       "190  334.0  44.556363  10.393305  52.155626  36.103238  137.000202  29.187308\n",
       "191  335.0  45.804489  10.645332  32.563488  33.168407   99.488750   6.246707"
      ]
     },
     "execution_count": 61,
     "metadata": {},
     "output_type": "execute_result"
    }
   ],
   "source": [
    "# displaying the last five rows of the dataset\n",
    "test.tail()"
   ]
  },
  {
   "cell_type": "code",
   "execution_count": 62,
   "metadata": {},
   "outputs": [
    {
     "data": {
      "text/html": [
       "<style type=\"text/css\">\n",
       "#T_cdf40_row0_col0 {\n",
       "  background-color: #e16462;\n",
       "  color: #f1f1f1;\n",
       "}\n",
       "#T_cdf40_row0_col1, #T_cdf40_row0_col2, #T_cdf40_row0_col3, #T_cdf40_row0_col4, #T_cdf40_row0_col7, #T_cdf40_row7_col0, #T_cdf40_row7_col5, #T_cdf40_row7_col6 {\n",
       "  background-color: #f0f921;\n",
       "  color: #000000;\n",
       "}\n",
       "#T_cdf40_row0_col5 {\n",
       "  background-color: #fdc229;\n",
       "  color: #000000;\n",
       "}\n",
       "#T_cdf40_row0_col6 {\n",
       "  background-color: #a31e9a;\n",
       "  color: #f1f1f1;\n",
       "}\n",
       "#T_cdf40_row1_col0 {\n",
       "  background-color: #c23c81;\n",
       "  color: #f1f1f1;\n",
       "}\n",
       "#T_cdf40_row1_col1 {\n",
       "  background-color: #a62098;\n",
       "  color: #f1f1f1;\n",
       "}\n",
       "#T_cdf40_row1_col2 {\n",
       "  background-color: #5901a5;\n",
       "  color: #f1f1f1;\n",
       "}\n",
       "#T_cdf40_row1_col3 {\n",
       "  background-color: #8a09a5;\n",
       "  color: #f1f1f1;\n",
       "}\n",
       "#T_cdf40_row1_col4, #T_cdf40_row4_col1 {\n",
       "  background-color: #7b02a8;\n",
       "  color: #f1f1f1;\n",
       "}\n",
       "#T_cdf40_row1_col5 {\n",
       "  background-color: #f1814d;\n",
       "  color: #f1f1f1;\n",
       "}\n",
       "#T_cdf40_row1_col6 {\n",
       "  background-color: #44039e;\n",
       "  color: #f1f1f1;\n",
       "}\n",
       "#T_cdf40_row1_col7, #T_cdf40_row2_col1, #T_cdf40_row2_col3, #T_cdf40_row2_col5, #T_cdf40_row2_col7, #T_cdf40_row3_col0, #T_cdf40_row3_col2, #T_cdf40_row3_col3, #T_cdf40_row3_col4, #T_cdf40_row3_col6, #T_cdf40_row3_col7, #T_cdf40_row4_col7, #T_cdf40_row5_col7, #T_cdf40_row6_col7 {\n",
       "  background-color: #0d0887;\n",
       "  color: #f1f1f1;\n",
       "}\n",
       "#T_cdf40_row2_col0 {\n",
       "  background-color: #8707a6;\n",
       "  color: #f1f1f1;\n",
       "}\n",
       "#T_cdf40_row2_col2 {\n",
       "  background-color: #3f049c;\n",
       "  color: #f1f1f1;\n",
       "}\n",
       "#T_cdf40_row2_col4 {\n",
       "  background-color: #19068c;\n",
       "  color: #f1f1f1;\n",
       "}\n",
       "#T_cdf40_row2_col6 {\n",
       "  background-color: #4e02a2;\n",
       "  color: #f1f1f1;\n",
       "}\n",
       "#T_cdf40_row3_col1 {\n",
       "  background-color: #41049d;\n",
       "  color: #f1f1f1;\n",
       "}\n",
       "#T_cdf40_row3_col5, #T_cdf40_row6_col3 {\n",
       "  background-color: #ab2494;\n",
       "  color: #f1f1f1;\n",
       "}\n",
       "#T_cdf40_row4_col0 {\n",
       "  background-color: #7501a8;\n",
       "  color: #f1f1f1;\n",
       "}\n",
       "#T_cdf40_row4_col2 {\n",
       "  background-color: #46039f;\n",
       "  color: #f1f1f1;\n",
       "}\n",
       "#T_cdf40_row4_col3 {\n",
       "  background-color: #5c01a6;\n",
       "  color: #f1f1f1;\n",
       "}\n",
       "#T_cdf40_row4_col4 {\n",
       "  background-color: #5b01a5;\n",
       "  color: #f1f1f1;\n",
       "}\n",
       "#T_cdf40_row4_col5 {\n",
       "  background-color: #e97257;\n",
       "  color: #f1f1f1;\n",
       "}\n",
       "#T_cdf40_row4_col6 {\n",
       "  background-color: #240691;\n",
       "  color: #f1f1f1;\n",
       "}\n",
       "#T_cdf40_row5_col0 {\n",
       "  background-color: #bd3786;\n",
       "  color: #f1f1f1;\n",
       "}\n",
       "#T_cdf40_row5_col1 {\n",
       "  background-color: #a82296;\n",
       "  color: #f1f1f1;\n",
       "}\n",
       "#T_cdf40_row5_col2 {\n",
       "  background-color: #5502a4;\n",
       "  color: #f1f1f1;\n",
       "}\n",
       "#T_cdf40_row5_col3 {\n",
       "  background-color: #8305a7;\n",
       "  color: #f1f1f1;\n",
       "}\n",
       "#T_cdf40_row5_col4 {\n",
       "  background-color: #7701a8;\n",
       "  color: #f1f1f1;\n",
       "}\n",
       "#T_cdf40_row5_col5, #T_cdf40_row6_col0 {\n",
       "  background-color: #f0804e;\n",
       "  color: #f1f1f1;\n",
       "}\n",
       "#T_cdf40_row5_col6 {\n",
       "  background-color: #3c049b;\n",
       "  color: #f1f1f1;\n",
       "}\n",
       "#T_cdf40_row6_col1 {\n",
       "  background-color: #c13b82;\n",
       "  color: #f1f1f1;\n",
       "}\n",
       "#T_cdf40_row6_col2 {\n",
       "  background-color: #6700a8;\n",
       "  color: #f1f1f1;\n",
       "}\n",
       "#T_cdf40_row6_col4 {\n",
       "  background-color: #9814a0;\n",
       "  color: #f1f1f1;\n",
       "}\n",
       "#T_cdf40_row6_col5 {\n",
       "  background-color: #f79143;\n",
       "  color: #f1f1f1;\n",
       "}\n",
       "#T_cdf40_row6_col6 {\n",
       "  background-color: #5601a4;\n",
       "  color: #f1f1f1;\n",
       "}\n",
       "#T_cdf40_row7_col1 {\n",
       "  background-color: #fdc527;\n",
       "  color: #000000;\n",
       "}\n",
       "#T_cdf40_row7_col2 {\n",
       "  background-color: #a21d9a;\n",
       "  color: #f1f1f1;\n",
       "}\n",
       "#T_cdf40_row7_col3 {\n",
       "  background-color: #e26660;\n",
       "  color: #f1f1f1;\n",
       "}\n",
       "#T_cdf40_row7_col4 {\n",
       "  background-color: #fdb52e;\n",
       "  color: #000000;\n",
       "}\n",
       "#T_cdf40_row7_col7 {\n",
       "  background-color: #100788;\n",
       "  color: #f1f1f1;\n",
       "}\n",
       "</style>\n",
       "<table id=\"T_cdf40\">\n",
       "  <thead>\n",
       "    <tr>\n",
       "      <th class=\"blank level0\" >&nbsp;</th>\n",
       "      <th id=\"T_cdf40_level0_col0\" class=\"col_heading level0 col0\" >id</th>\n",
       "      <th id=\"T_cdf40_level0_col1\" class=\"col_heading level0 col1\" >feature_0</th>\n",
       "      <th id=\"T_cdf40_level0_col2\" class=\"col_heading level0 col2\" >feature_1</th>\n",
       "      <th id=\"T_cdf40_level0_col3\" class=\"col_heading level0 col3\" >feature_2</th>\n",
       "      <th id=\"T_cdf40_level0_col4\" class=\"col_heading level0 col4\" >feature_3</th>\n",
       "      <th id=\"T_cdf40_level0_col5\" class=\"col_heading level0 col5\" >feature_4</th>\n",
       "      <th id=\"T_cdf40_level0_col6\" class=\"col_heading level0 col6\" >feature_5</th>\n",
       "      <th id=\"T_cdf40_level0_col7\" class=\"col_heading level0 col7\" >is_anomaly</th>\n",
       "    </tr>\n",
       "  </thead>\n",
       "  <tbody>\n",
       "    <tr>\n",
       "      <th id=\"T_cdf40_level0_row0\" class=\"row_heading level0 row0\" >count</th>\n",
       "      <td id=\"T_cdf40_row0_col0\" class=\"data row0 col0\" >144.000000</td>\n",
       "      <td id=\"T_cdf40_row0_col1\" class=\"data row0 col1\" >144.000000</td>\n",
       "      <td id=\"T_cdf40_row0_col2\" class=\"data row0 col2\" >144.000000</td>\n",
       "      <td id=\"T_cdf40_row0_col3\" class=\"data row0 col3\" >144.000000</td>\n",
       "      <td id=\"T_cdf40_row0_col4\" class=\"data row0 col4\" >144.000000</td>\n",
       "      <td id=\"T_cdf40_row0_col5\" class=\"data row0 col5\" >144.000000</td>\n",
       "      <td id=\"T_cdf40_row0_col6\" class=\"data row0 col6\" >144.000000</td>\n",
       "      <td id=\"T_cdf40_row0_col7\" class=\"data row0 col7\" >144.000000</td>\n",
       "    </tr>\n",
       "    <tr>\n",
       "      <th id=\"T_cdf40_level0_row1\" class=\"row_heading level0 row1\" >mean</th>\n",
       "      <td id=\"T_cdf40_row1_col0\" class=\"data row1 col0\" >111.326389</td>\n",
       "      <td id=\"T_cdf40_row1_col1\" class=\"data row1 col1\" >64.226751</td>\n",
       "      <td id=\"T_cdf40_row1_col2\" class=\"data row1 col2\" >19.561420</td>\n",
       "      <td id=\"T_cdf40_row1_col3\" class=\"data row1 col3\" >54.079310</td>\n",
       "      <td id=\"T_cdf40_row1_col4\" class=\"data row1 col4\" >44.703726</td>\n",
       "      <td id=\"T_cdf40_row1_col5\" class=\"data row1 col5\" >117.250586</td>\n",
       "      <td id=\"T_cdf40_row1_col6\" class=\"data row1 col6\" >35.702038</td>\n",
       "      <td id=\"T_cdf40_row1_col7\" class=\"data row1 col7\" >0.097222</td>\n",
       "    </tr>\n",
       "    <tr>\n",
       "      <th id=\"T_cdf40_level0_row2\" class=\"row_heading level0 row2\" >std</th>\n",
       "      <td id=\"T_cdf40_row2_col0\" class=\"data row2 col0\" >66.748335</td>\n",
       "      <td id=\"T_cdf40_row2_col1\" class=\"data row2 col1\" >18.145381</td>\n",
       "      <td id=\"T_cdf40_row2_col2\" class=\"data row2 col2\" >10.436813</td>\n",
       "      <td id=\"T_cdf40_row2_col3\" class=\"data row2 col3\" >18.725270</td>\n",
       "      <td id=\"T_cdf40_row2_col4\" class=\"data row2 col4\" >14.851784</td>\n",
       "      <td id=\"T_cdf40_row2_col5\" class=\"data row2 col5\" >13.590508</td>\n",
       "      <td id=\"T_cdf40_row2_col6\" class=\"data row2 col6\" >45.957506</td>\n",
       "      <td id=\"T_cdf40_row2_col7\" class=\"data row2 col7\" >0.297294</td>\n",
       "    </tr>\n",
       "    <tr>\n",
       "      <th id=\"T_cdf40_level0_row3\" class=\"row_heading level0 row3\" >min</th>\n",
       "      <td id=\"T_cdf40_row3_col0\" class=\"data row3 col0\" >1.000000</td>\n",
       "      <td id=\"T_cdf40_row3_col1\" class=\"data row3 col1\" >30.577565</td>\n",
       "      <td id=\"T_cdf40_row3_col2\" class=\"data row3 col2\" >-3.653628</td>\n",
       "      <td id=\"T_cdf40_row3_col3\" class=\"data row3 col3\" >18.995085</td>\n",
       "      <td id=\"T_cdf40_row3_col4\" class=\"data row3 col4\" >12.791948</td>\n",
       "      <td id=\"T_cdf40_row3_col5\" class=\"data row3 col5\" >70.660124</td>\n",
       "      <td id=\"T_cdf40_row3_col6\" class=\"data row3 col6\" >-9.957228</td>\n",
       "      <td id=\"T_cdf40_row3_col7\" class=\"data row3 col7\" >0.000000</td>\n",
       "    </tr>\n",
       "    <tr>\n",
       "      <th id=\"T_cdf40_level0_row4\" class=\"row_heading level0 row4\" >25%</th>\n",
       "      <td id=\"T_cdf40_row4_col0\" class=\"data row4 col0\" >55.750000</td>\n",
       "      <td id=\"T_cdf40_row4_col1\" class=\"data row4 col1\" >48.680970</td>\n",
       "      <td id=\"T_cdf40_row4_col2\" class=\"data row4 col2\" >12.794194</td>\n",
       "      <td id=\"T_cdf40_row4_col3\" class=\"data row4 col3\" >39.482445</td>\n",
       "      <td id=\"T_cdf40_row4_col4\" class=\"data row4 col4\" >33.876683</td>\n",
       "      <td id=\"T_cdf40_row4_col5\" class=\"data row4 col5\" >110.247439</td>\n",
       "      <td id=\"T_cdf40_row4_col6\" class=\"data row4 col6\" >5.182902</td>\n",
       "      <td id=\"T_cdf40_row4_col7\" class=\"data row4 col7\" >0.000000</td>\n",
       "    </tr>\n",
       "    <tr>\n",
       "      <th id=\"T_cdf40_level0_row5\" class=\"row_heading level0 row5\" >50%</th>\n",
       "      <td id=\"T_cdf40_row5_col0\" class=\"data row5 col0\" >106.500000</td>\n",
       "      <td id=\"T_cdf40_row5_col1\" class=\"data row5 col1\" >65.071287</td>\n",
       "      <td id=\"T_cdf40_row5_col2\" class=\"data row5 col2\" >17.890558</td>\n",
       "      <td id=\"T_cdf40_row5_col3\" class=\"data row5 col3\" >51.512030</td>\n",
       "      <td id=\"T_cdf40_row5_col4\" class=\"data row5 col4\" >43.373902</td>\n",
       "      <td id=\"T_cdf40_row5_col5\" class=\"data row5 col5\" >117.117564</td>\n",
       "      <td id=\"T_cdf40_row5_col6\" class=\"data row5 col6\" >27.227696</td>\n",
       "      <td id=\"T_cdf40_row5_col7\" class=\"data row5 col7\" >0.000000</td>\n",
       "    </tr>\n",
       "    <tr>\n",
       "      <th id=\"T_cdf40_level0_row6\" class=\"row_heading level0 row6\" >75%</th>\n",
       "      <td id=\"T_cdf40_row6_col0\" class=\"data row6 col0\" >164.750000</td>\n",
       "      <td id=\"T_cdf40_row6_col1\" class=\"data row6 col1\" >76.047032</td>\n",
       "      <td id=\"T_cdf40_row6_col2\" class=\"data row6 col2\" >24.860083</td>\n",
       "      <td id=\"T_cdf40_row6_col3\" class=\"data row6 col3\" >66.524102</td>\n",
       "      <td id=\"T_cdf40_row6_col4\" class=\"data row6 col4\" >55.151957</td>\n",
       "      <td id=\"T_cdf40_row6_col5\" class=\"data row6 col5\" >124.157933</td>\n",
       "      <td id=\"T_cdf40_row6_col6\" class=\"data row6 col6\" >54.205813</td>\n",
       "      <td id=\"T_cdf40_row6_col7\" class=\"data row6 col7\" >0.000000</td>\n",
       "    </tr>\n",
       "    <tr>\n",
       "      <th id=\"T_cdf40_level0_row7\" class=\"row_heading level0 row7\" >max</th>\n",
       "      <td id=\"T_cdf40_row7_col0\" class=\"data row7 col0\" >239.000000</td>\n",
       "      <td id=\"T_cdf40_row7_col1\" class=\"data row7 col1\" >128.573395</td>\n",
       "      <td id=\"T_cdf40_row7_col2\" class=\"data row7 col2\" >48.715990</td>\n",
       "      <td id=\"T_cdf40_row7_col3\" class=\"data row7 col3\" >94.829946</td>\n",
       "      <td id=\"T_cdf40_row7_col4\" class=\"data row7 col4\" >122.478511</td>\n",
       "      <td id=\"T_cdf40_row7_col5\" class=\"data row7 col5\" >163.339675</td>\n",
       "      <td id=\"T_cdf40_row7_col6\" class=\"data row7 col6\" >419.262574</td>\n",
       "      <td id=\"T_cdf40_row7_col7\" class=\"data row7 col7\" >1.000000</td>\n",
       "    </tr>\n",
       "  </tbody>\n",
       "</table>\n"
      ],
      "text/plain": [
       "<pandas.io.formats.style.Styler at 0x1f89a00cbb0>"
      ]
     },
     "execution_count": 62,
     "metadata": {},
     "output_type": "execute_result"
    }
   ],
   "source": [
    "# summary of the dataset\n",
    "data.describe().style.background_gradient(cmap = 'plasma')"
   ]
  },
  {
   "cell_type": "code",
   "execution_count": 63,
   "metadata": {},
   "outputs": [
    {
     "name": "stdout",
     "output_type": "stream",
     "text": [
      "The dataset has 144 rows and 8 columns.\n"
     ]
    }
   ],
   "source": [
    "# print the shape of the dataset\n",
    "print(f'The dataset has {data.shape[0]} rows and {data.shape[1]} columns.')"
   ]
  },
  {
   "cell_type": "code",
   "execution_count": 64,
   "metadata": {},
   "outputs": [
    {
     "data": {
      "text/plain": [
       "id            float64\n",
       "feature_0     float64\n",
       "feature_1     float64\n",
       "feature_2     float64\n",
       "feature_3     float64\n",
       "feature_4     float64\n",
       "feature_5     float64\n",
       "is_anomaly    float64\n",
       "dtype: object"
      ]
     },
     "execution_count": 64,
     "metadata": {},
     "output_type": "execute_result"
    }
   ],
   "source": [
    "# checking the data types of the columns\n",
    "data.dtypes"
   ]
  },
  {
   "cell_type": "markdown",
   "metadata": {},
   "source": [
    "The data types of the columns are all numerical thus there is no need for encoding "
   ]
  },
  {
   "cell_type": "code",
   "execution_count": 65,
   "metadata": {},
   "outputs": [
    {
     "data": {
      "text/plain": [
       "id            0\n",
       "feature_0     0\n",
       "feature_1     0\n",
       "feature_2     0\n",
       "feature_3     0\n",
       "feature_4     0\n",
       "feature_5     0\n",
       "is_anomaly    0\n",
       "dtype: int64"
      ]
     },
     "execution_count": 65,
     "metadata": {},
     "output_type": "execute_result"
    }
   ],
   "source": [
    "# checking for missing values\n",
    "data.isna().sum()"
   ]
  },
  {
   "cell_type": "code",
   "execution_count": 66,
   "metadata": {},
   "outputs": [
    {
     "data": {
      "text/plain": [
       "0"
      ]
     },
     "execution_count": 66,
     "metadata": {},
     "output_type": "execute_result"
    }
   ],
   "source": [
    "# checking for duplicates\n",
    "data.duplicated().sum()"
   ]
  },
  {
   "cell_type": "markdown",
   "metadata": {},
   "source": [
    "The dataset has no missing values"
   ]
  },
  {
   "cell_type": "markdown",
   "metadata": {},
   "source": [
    "## Exploratory Data Analysis\n",
    "let's take a look at the distribution of the target variable"
   ]
  },
  {
   "cell_type": "code",
   "execution_count": 67,
   "metadata": {},
   "outputs": [
    {
     "data": {
      "image/png": "[encoded data removed]",
      "text/plain": [
       "<Figure size 640x480 with 1 Axes>"
      ]
     },
     "metadata": {},
     "output_type": "display_data"
    }
   ],
   "source": [
    "# plotting the distribution of the target\n",
    "sns.countplot(x = 'is_anomaly', data = data)\n",
    "plt.show()"
   ]
  },
  {
   "cell_type": "markdown",
   "metadata": {},
   "source": [
    "there is class imbalance in the dataset"
   ]
  },
  {
   "cell_type": "code",
   "execution_count": 68,
   "metadata": {},
   "outputs": [
    {
     "data": {
      "text/plain": [
       "is_anomaly    1.000000\n",
       "id            0.559412\n",
       "feature_4     0.100800\n",
       "feature_3    -0.025224\n",
       "feature_0    -0.181980\n",
       "feature_2    -0.206577\n",
       "feature_5    -0.250834\n",
       "feature_1    -0.272351\n",
       "Name: is_anomaly, dtype: float64"
      ]
     },
     "execution_count": 68,
     "metadata": {},
     "output_type": "execute_result"
    }
   ],
   "source": [
    "# correlation matrix \n",
    "data.corr()['is_anomaly'].sort_values(ascending=False)"
   ]
  },
  {
   "cell_type": "code",
   "execution_count": 69,
   "metadata": {},
   "outputs": [
    {
     "data": {
      "image/png": "[encoded data removed]",
      "text/plain": [
       "<Figure size 1000x800 with 2 Axes>"
      ]
     },
     "metadata": {},
     "output_type": "display_data"
    }
   ],
   "source": [
    "# pplotting the correlation matrix\n",
    "plt.figure(figsize=(10, 8))\n",
    "sns.heatmap(data.corr(), annot=True)\n",
    "plt.show()"
   ]
  },
  {
   "cell_type": "markdown",
   "metadata": {},
   "source": [
    "Interpretation of the correlation values:\n",
    "\n",
    "* is_anomaly - 1.000000: This is the correlation of \"is_anomaly\" with itself, which is always 1.0.\n",
    "\n",
    "* Feature_4 - 0.100800: There is a positive correlation of approximately 0.10 between \"is_anomaly\" and \"feature_4\". This suggests a weak positive linear relationship.\n",
    "\n",
    "* Feature_3 - (-0.025224): There is a very weak negative correlation (close to zero) of approximately -0.03 between \"is_anomaly\" and \"feature_3\". The negative sign indicates a slight negative linear relationship.\n",
    "\n",
    "* Feature_0 - (-0.181980): There is a moderate negative correlation of approximately -0.18 between \"is_anomaly\" and \"feature_0\". The negative sign suggests a moderate negative linear relationship.\n",
    "\n",
    "* Feature_2 - (-0.206577): There is a moderate negative correlation of approximately -0.21 between \"is_anomaly\" and \"feature_2\". Similar to feature_0, the negative sign indicates a moderate negative linear relationship.\n",
    "\n",
    "* Feature_5 - (-0.250834): There is a moderate negative correlation of approximately -0.25 between \"is_anomaly\" and \"feature_5\". The negative sign suggests a moderate negative linear relationship.\n",
    "\n",
    "* Feature_1 - (-0.272351): There is a moderate negative correlation of approximately -0.27 between \"is_anomaly\" and \"feature_1\". The negative sign indicates a moderate negative linear relationship.\n",
    "\n",
    "Interpretation:\n",
    "\n",
    "* The negative correlations indicate that as the values of the features decrease, there is a tendency for the target variable \"is_anomaly\" to be more likely to be labeled as 1 (anomaly).\n",
    "* The moderate negative correlations suggest a moderate inverse relationship between the features and the likelihood of being an anomaly."
   ]
  },
  {
   "cell_type": "code",
   "execution_count": 70,
   "metadata": {},
   "outputs": [
    {
     "data": {
      "image/png": "[encoded data removed]",
      "text/plain": [
       "<Figure size 1000x500 with 1 Axes>"
      ]
     },
     "metadata": {},
     "output_type": "display_data"
    }
   ],
   "source": [
    "# checking for outliers\n",
    "plt.figure(figsize=(10, 5))\n",
    "sns.boxplot(data=data)\n",
    "plt.show()"
   ]
  },
  {
   "cell_type": "code",
   "execution_count": 71,
   "metadata": {},
   "outputs": [],
   "source": [
    "# function to handle outliers\n",
    "from scipy import stats\n",
    "\n",
    "def handle_outliers(column):\n",
    "    if column.dtype != 'object':\n",
    "        q1 = column.quantile(0.25)\n",
    "        q3 = column.quantile(0.75)\n",
    "        iqr = q3 - q1\n",
    "        lower_bound = q1 - (1.5 * iqr)\n",
    "        upper_bound = q3 + (1.5 * iqr)\n",
    "\n",
    "        # Identify and replace outliers with the median\n",
    "        return np.where((column < lower_bound) | (column > upper_bound), column.median(), column)\n",
    "    else:\n",
    "        return column\n",
    "\n",
    "# Loop through each column in the dataset\n",
    "for col in data.columns:\n",
    "    if col != 'is_anomaly':\n",
    "        data[col] = handle_outliers(data[col])\n"
   ]
  },
  {
   "cell_type": "markdown",
   "metadata": {},
   "source": [
    "## Dropping the unnecessary columns"
   ]
  },
  {
   "cell_type": "code",
   "execution_count": 72,
   "metadata": {},
   "outputs": [],
   "source": [
    "data.drop(['id'],axis=1,inplace=True)"
   ]
  },
  {
   "cell_type": "code",
   "execution_count": 73,
   "metadata": {},
   "outputs": [],
   "source": [
    "# selecting x and y values\n",
    "X = data.drop('is_anomaly', axis=1)\n",
    "y = data['is_anomaly']"
   ]
  },
  {
   "cell_type": "markdown",
   "metadata": {},
   "source": [
    "# Model Building"
   ]
  },
  {
   "cell_type": "code",
   "execution_count": 74,
   "metadata": {},
   "outputs": [],
   "source": [
    "from sklearn.model_selection import train_test_split # for splitting the data\n",
    "from sklearn.preprocessing import StandardScaler # for scaling the data\n",
    "from sklearn.linear_model import LogisticRegression # for logistic regression\n",
    "from sklearn.metrics import accuracy_score, confusion_matrix, classification_report # for evaluation\n",
    "from sklearn.ensemble import RandomForestClassifier # for random forest\n",
    "from sklearn.neighbors import KNeighborsClassifier # for KNN\n",
    "from sklearn.tree import DecisionTreeClassifier # for decision tree\n",
    "from sklearn.metrics import roc_auc_score # for ROC AUC score"
   ]
  },
  {
   "cell_type": "code",
   "execution_count": 75,
   "metadata": {},
   "outputs": [],
   "source": [
    "# normalizing the data\n",
    "scaler = StandardScaler()\n",
    "X = scaler.fit_transform(x)\n",
    "\n",
    "# splitting the data\n",
    "X_train, X_test, y_train, y_test = train_test_split(X, y, test_size=0.2, random_state=42)"
   ]
  },
  {
   "cell_type": "code",
   "execution_count": 76,
   "metadata": {},
   "outputs": [
    {
     "name": "stdout",
     "output_type": "stream",
     "text": [
      "Accuracy: 0.9310344827586207\n",
      "Confusion Matrix:\n",
      " [[26  0]\n",
      " [ 2  1]]\n",
      "Classification Report:\n",
      "               precision    recall  f1-score   support\n",
      "\n",
      "         0.0       0.93      1.00      0.96        26\n",
      "         1.0       1.00      0.33      0.50         3\n",
      "\n",
      "    accuracy                           0.93        29\n",
      "   macro avg       0.96      0.67      0.73        29\n",
      "weighted avg       0.94      0.93      0.92        29\n",
      "\n",
      "ROC AUC Score: 0.6666666666666666\n"
     ]
    }
   ],
   "source": [
    "# Logistic Regression\n",
    "from sklearn.linear_model import LogisticRegression\n",
    "\n",
    "# Create a logistic regression model\n",
    "model = LogisticRegression()\n",
    "\n",
    "# Fit the model to the training data\n",
    "model.fit(X_train, y_train)\n",
    "\n",
    "# Predict the labels for the test data\n",
    "y_pred = model.predict(X_test)\n",
    "\n",
    "# Evaluate the model\n",
    "accuracy = accuracy_score(y_test, y_pred)\n",
    "confusion_matrix = confusion_matrix(y_test, y_pred)\n",
    "classification_report = classification_report(y_test, y_pred)\n",
    "roc = roc_auc_score(y_test, y_pred)\n",
    "\n",
    "# Print the evaluation metrics\n",
    "print(\"Accuracy:\", accuracy)\n",
    "print(\"Confusion Matrix:\\n\", confusion_matrix)\n",
    "print(\"Classification Report:\\n\", classification_report)\n",
    "print(\"ROC AUC Score:\", roc)"
   ]
  },
  {
   "cell_type": "markdown",
   "metadata": {},
   "source": [
    "Accuracy (0.931):\n",
    "\n",
    "The accuracy is the proportion of correctly classified instances out of the total instances.\n",
    "In this case, the model has an accuracy of approximately 93.1%, indicating that it correctly predicted the target variable for about 93.1% of the samples.\n",
    "Confusion Matrix:\n",
    "\n",
    "A confusion matrix provides a detailed breakdown of the model's predictions.\n",
    "In this case:\n",
    "True Positive (TP): 26 instances correctly predicted as class 0.\n",
    "False Negative (FN): 0 instances of class 0 incorrectly predicted as class 1.\n",
    "False Positive (FP): 2 instances of class 1 incorrectly predicted as class 0.\n",
    "True Negative (TN): 1 instance correctly predicted as class 1.\n",
    "Classification Report:\n",
    "\n",
    "Precision: The ratio of true positives to the total predicted positives.\n",
    "Recall: The ratio of true positives to the total actual positives.\n",
    "F1-score: The harmonic mean of precision and recall.\n",
    "Support: The number of actual occurrences of the class in the specified dataset.\n",
    "Weighted Avg: The weighted average of precision, recall, and F1-score, considering the support for each class.\n",
    "In this case:\n",
    "Class 0 (non-anomaly): High precision (0.93), perfect recall (1.00), and a high F1-score (0.96).\n",
    "Class 1 (anomaly): Perfect precision (1.00), lower recall (0.33), and a moderate F1-score (0.50).\n",
    "ROC AUC Score (0.667):\n",
    "\n",
    "The Receiver Operating Characteristic Area Under the Curve (ROC AUC) measures the ability of the model to discriminate between positive and negative instances.\n",
    "A score of 0.667 suggests that the model has a moderate ability to distinguish between the two classes."
   ]
  },
  {
   "cell_type": "code",
   "execution_count": 77,
   "metadata": {},
   "outputs": [
    {
     "name": "stdout",
     "output_type": "stream",
     "text": [
      "Accuracy: 0.896551724137931\n",
      "Confusion Matrix:\n",
      " [[26  0]\n",
      " [ 3  0]]\n",
      "Classification Report:\n",
      "               precision    recall  f1-score   support\n",
      "\n",
      "         0.0       0.90      1.00      0.95        26\n",
      "         1.0       0.00      0.00      0.00         3\n",
      "\n",
      "    accuracy                           0.90        29\n",
      "   macro avg       0.45      0.50      0.47        29\n",
      "weighted avg       0.80      0.90      0.85        29\n",
      "\n",
      "ROC AUC Score: 0.5\n"
     ]
    }
   ],
   "source": [
    "from sklearn.ensemble import RandomForestClassifier\n",
    "from sklearn.metrics import accuracy_score, confusion_matrix, classification_report as clf_report, roc_auc_score\n",
    "\n",
    "# Create a random forest model\n",
    "model = RandomForestClassifier()\n",
    "\n",
    "# Fit the model to the training data\n",
    "model.fit(X_train, y_train)\n",
    "\n",
    "# Predict the labels for the test data\n",
    "y_pred = model.predict(X_test)\n",
    "\n",
    "# Evaluate the model\n",
    "accuracy = accuracy_score(y_test, y_pred)\n",
    "confusion_matrix_result = confusion_matrix(y_test, y_pred)\n",
    "classification_report_result = clf_report(y_test, y_pred)\n",
    "roc = roc_auc_score(y_test, y_pred)\n",
    "\n",
    "# Print the evaluation metrics\n",
    "print(\"Accuracy:\", accuracy)\n",
    "print(\"Confusion Matrix:\\n\", confusion_matrix_result)\n",
    "print(\"Classification Report:\\n\", classification_report_result)\n",
    "print(\"ROC AUC Score:\", roc)"
   ]
  },
  {
   "cell_type": "markdown",
   "metadata": {},
   "source": [
    "Accuracy (0.897):\n",
    "\n",
    "The accuracy is the proportion of correctly classified instances out of the total instances.\n",
    "In this case, the model has an accuracy of approximately 89.7%, indicating that it correctly predicted the target variable for about 89.7% of the samples.\n",
    "Confusion Matrix:\n",
    "\n",
    "A confusion matrix provides a detailed breakdown of the model's predictions.\n",
    "In this case:\n",
    "True Positive (TP): 26 instances correctly predicted as class 0.\n",
    "False Negative (FN): 0 instances of class 0 incorrectly predicted as class 1.\n",
    "False Positive (FP): 3 instances of class 1 incorrectly predicted as class 0.\n",
    "True Negative (TN): 0 instances correctly predicted as class 1.\n",
    "Classification Report:\n",
    "\n",
    "Precision: The ratio of true positives to the total predicted positives.\n",
    "Recall: The ratio of true positives to the total actual positives.\n",
    "F1-score: The harmonic mean of precision and recall.\n",
    "Support: The number of actual occurrences of the class in the specified dataset.\n",
    "In this case:\n",
    "Class 0 (non-anomaly): High precision (0.90), perfect recall (1.00), and a high F1-score (0.95).\n",
    "Class 1 (anomaly): Low precision (0.00), indicating that the model struggles to correctly predict anomalies, resulting in a low recall (0.00) and F1-score (0.00).\n",
    "ROC AUC Score (0.5):\n",
    "\n",
    "The Receiver Operating Characteristic Area Under the Curve (ROC AUC) measures the ability of the model to discriminate between positive and negative instances.\n",
    "A score of 0.5 suggests that the model is not better than random chance in distinguishing between the two classes."
   ]
  },
  {
   "cell_type": "code",
   "execution_count": 78,
   "metadata": {},
   "outputs": [
    {
     "name": "stdout",
     "output_type": "stream",
     "text": [
      "Accuracy: 0.9310344827586207\n",
      "Confusion Matrix:\n",
      " [[26  0]\n",
      " [ 2  1]]\n",
      "Classification Report:\n",
      "               precision    recall  f1-score   support\n",
      "\n",
      "         0.0       0.93      1.00      0.96        26\n",
      "         1.0       1.00      0.33      0.50         3\n",
      "\n",
      "    accuracy                           0.93        29\n",
      "   macro avg       0.96      0.67      0.73        29\n",
      "weighted avg       0.94      0.93      0.92        29\n",
      "\n",
      "ROC AUC Score: 0.6666666666666666\n"
     ]
    }
   ],
   "source": [
    "# KNN\n",
    "\n",
    "# Create a KNN model\n",
    "model = KNeighborsClassifier()\n",
    "\n",
    "# Fit the model to the training data\n",
    "model.fit(X_train, y_train)\n",
    "\n",
    "# Predict the labels for the test data\n",
    "y_pred = model.predict(X_test)\n",
    "\n",
    "# Evaluate the model\n",
    "accuracy = accuracy_score(y_test, y_pred)\n",
    "confusion_matrix_result = confusion_matrix(y_test, y_pred)\n",
    "classification_report_result = clf_report(y_test, y_pred)\n",
    "roc = roc_auc_score(y_test, y_pred)\n",
    "\n",
    "# Print the evaluation metrics\n",
    "print(\"Accuracy:\", accuracy)\n",
    "print(\"Confusion Matrix:\\n\", confusion_matrix_result)\n",
    "print(\"Classification Report:\\n\", classification_report_result)\n",
    "print(\"ROC AUC Score:\", roc)"
   ]
  },
  {
   "cell_type": "code",
   "execution_count": 79,
   "metadata": {},
   "outputs": [
    {
     "name": "stdout",
     "output_type": "stream",
     "text": [
      "(22, 6)\n"
     ]
    }
   ],
   "source": [
    "# undersampling to balance the dataset\n",
    "# Import the necessary libraries\n",
    "from imblearn.under_sampling import RandomUnderSampler\n",
    "\n",
    "# Create an instance of the RandomUnderSampler\n",
    "rus = RandomUnderSampler()\n",
    "\n",
    "# Undersample the dataset\n",
    "X_train_res, y_train_res = rus.fit_resample(X_train, y_train)\n",
    "\n",
    "# Print the shape of the undersampled dataset\n",
    "print(X_train_res.shape)"
   ]
  },
  {
   "cell_type": "code",
   "execution_count": 80,
   "metadata": {},
   "outputs": [
    {
     "name": "stdout",
     "output_type": "stream",
     "text": [
      "Accuracy: 0.5862068965517241\n",
      "Confusion Matrix:\n",
      " [[14 12]\n",
      " [ 0  3]]\n",
      "Classification Report:\n",
      "               precision    recall  f1-score   support\n",
      "\n",
      "         0.0       1.00      0.54      0.70        26\n",
      "         1.0       0.20      1.00      0.33         3\n",
      "\n",
      "    accuracy                           0.59        29\n",
      "   macro avg       0.60      0.77      0.52        29\n",
      "weighted avg       0.92      0.59      0.66        29\n",
      "\n",
      "ROC AUC Score: 0.7692307692307692\n"
     ]
    }
   ],
   "source": [
    "# fitting logistic regression model with undersampled data\n",
    "from sklearn.linear_model import LogisticRegression\n",
    "\n",
    "# Create a logistic regression model\n",
    "logreg = LogisticRegression()\n",
    "\n",
    "# Fit the model to the undersampled training data\n",
    "logreg.fit(X_train_res, y_train_res)\n",
    "\n",
    "# Predict the labels for the test data\n",
    "y_pred = logreg.predict(X_test)\n",
    "\n",
    "# Evaluate the model\n",
    "accuracy = accuracy_score(y_test, y_pred)\n",
    "confusion_matrix_result = confusion_matrix(y_test, y_pred)\n",
    "classification_report_result = clf_report(y_test, y_pred)\n",
    "roc = roc_auc_score(y_test, y_pred)\n",
    "\n",
    "# Print the evaluation metrics\n",
    "print(\"Accuracy:\", accuracy)\n",
    "print(\"Confusion Matrix:\\n\", confusion_matrix_result)\n",
    "print(\"Classification Report:\\n\", classification_report_result)\n",
    "print(\"ROC AUC Score:\", roc)"
   ]
  },
  {
   "cell_type": "markdown",
   "metadata": {},
   "source": [
    "After under sampling the dataset the roc score improved to 0.86. Lets do some hyperparameter tuning."
   ]
  },
  {
   "cell_type": "code",
   "execution_count": 81,
   "metadata": {},
   "outputs": [
    {
     "name": "stdout",
     "output_type": "stream",
     "text": [
      "Best Hyperparameters: {'C': 10, 'penalty': 'l2'}\n",
      "Accuracy: 0.6551724137931034\n",
      "Confusion Matrix:\n",
      " [[16 10]\n",
      " [ 0  3]]\n",
      "Classification Report:\n",
      "               precision    recall  f1-score   support\n",
      "\n",
      "         0.0       1.00      0.62      0.76        26\n",
      "         1.0       0.23      1.00      0.38         3\n",
      "\n",
      "    accuracy                           0.66        29\n",
      "   macro avg       0.62      0.81      0.57        29\n",
      "weighted avg       0.92      0.66      0.72        29\n",
      "\n",
      "ROC AUC Score: 0.8076923076923077\n"
     ]
    }
   ],
   "source": [
    "# hyperparameter tuning for logistic regression\n",
    "from sklearn.model_selection import GridSearchCV\n",
    "\n",
    "# Define the hyperparameters to tune\n",
    "param_grid = {\n",
    "    'penalty': ['l1', 'l2'],\n",
    "    'C': [0.001, 0.01, 0.1, 1, 10, 100]\n",
    "}\n",
    "\n",
    "# Create a logistic regression model\n",
    "logreg = LogisticRegression()\n",
    "\n",
    "# Perform grid search cross validation\n",
    "grid_search = GridSearchCV(logreg, param_grid, cv=5)\n",
    "grid_search.fit(X_train_res, y_train_res)\n",
    "\n",
    "# Print the best hyperparameters\n",
    "print(\"Best Hyperparameters:\", grid_search.best_params_)\n",
    "\n",
    "# Fit the model to the undersampled training data using the best hyperparameters\n",
    "logreg_best = LogisticRegression(**grid_search.best_params_)\n",
    "logreg_best.fit(X_train_res, y_train_res)\n",
    "\n",
    "# Predict the labels for the test data\n",
    "y_pred = logreg_best.predict(X_test)\n",
    "\n",
    "# Evaluate the model\n",
    "accuracy = accuracy_score(y_test, y_pred)\n",
    "confusion_matrix_result = confusion_matrix(y_test, y_pred)\n",
    "classification_report_result = clf_report(y_test, y_pred)\n",
    "roc = roc_auc_score(y_test, y_pred)\n",
    "\n",
    "# Print the evaluation metrics\n",
    "print(\"Accuracy:\", accuracy)\n",
    "print(\"Confusion Matrix:\\n\", confusion_matrix_result)\n",
    "print(\"Classification Report:\\n\", classification_report_result)\n",
    "print(\"ROC AUC Score:\", roc)"
   ]
  },
  {
   "cell_type": "code",
   "execution_count": 82,
   "metadata": {},
   "outputs": [
    {
     "name": "stdout",
     "output_type": "stream",
     "text": [
      "Accuracy: 0.5517241379310345\n",
      "Confusion Matrix:\n",
      " [[13 13]\n",
      " [ 0  3]]\n",
      "Classification Report:\n",
      "               precision    recall  f1-score   support\n",
      "\n",
      "         0.0       1.00      0.50      0.67        26\n",
      "         1.0       0.19      1.00      0.32         3\n",
      "\n",
      "    accuracy                           0.55        29\n",
      "   macro avg       0.59      0.75      0.49        29\n",
      "weighted avg       0.92      0.55      0.63        29\n",
      "\n",
      "ROC AUC Score: 0.75\n"
     ]
    }
   ],
   "source": [
    "# fitting k-nearest neighbors model with undersampled data\n",
    "# Import the necessary libraries\n",
    "from sklearn.neighbors import KNeighborsClassifier\n",
    "\n",
    "# Create a k-nearest neighbors model\n",
    "knn = KNeighborsClassifier()\n",
    "\n",
    "# Fit the model to the undersampled training data\n",
    "knn.fit(X_train_res, y_train_res)\n",
    "\n",
    "# Predict the labels for the test data\n",
    "y_pred = knn.predict(X_test)\n",
    "\n",
    "# Evaluate the model\n",
    "accuracy = accuracy_score(y_test, y_pred)\n",
    "confusion_matrix_result = confusion_matrix(y_test, y_pred)\n",
    "classification_report_result = clf_report(y_test, y_pred)\n",
    "roc = roc_auc_score(y_test, y_pred)\n",
    "\n",
    "# Print the evaluation metrics\n",
    "print(\"Accuracy:\", accuracy)\n",
    "print(\"Confusion Matrix:\\n\", confusion_matrix_result)\n",
    "print(\"Classification Report:\\n\", classification_report_result)\n",
    "print(\"ROC AUC Score:\", roc)"
   ]
  },
  {
   "cell_type": "code",
   "execution_count": 83,
   "metadata": {},
   "outputs": [
    {
     "name": "stdout",
     "output_type": "stream",
     "text": [
      "Best Parameters: {'algorithm': 'auto', 'n_neighbors': 5, 'weights': 'uniform'}\n",
      "Best Score: 0.77\n"
     ]
    }
   ],
   "source": [
    "# hyperparameter tuning for k-nearest neighbors\n",
    "# Import the necessary libraries\n",
    "from sklearn.model_selection import GridSearchCV\n",
    "\n",
    "# Define the parameter grid\n",
    "param_grid = {'n_neighbors': [3, 5, 7],\n",
    "              'weights': ['uniform', 'distance'],\n",
    "              'algorithm': ['auto', 'ball_tree', 'kd_tree', 'brute']}\n",
    "\n",
    "# Create a k-nearest neighbors model\n",
    "knn = KNeighborsClassifier()\n",
    "\n",
    "# Perform grid search with cross-validation\n",
    "grid_search = GridSearchCV(knn, param_grid, cv=5)\n",
    "\n",
    "# Fit the model to the undersampled training data\n",
    "grid_search.fit(X_train_res, y_train_res)\n",
    "\n",
    "# Get the best parameters and best score\n",
    "best_params = grid_search.best_params_\n",
    "best_score = grid_search.best_score_\n",
    "\n",
    "# Print the best parameters and best score\n",
    "print(\"Best Parameters:\", best_params)\n",
    "print(\"Best Score:\", best_score)"
   ]
  },
  {
   "cell_type": "code",
   "execution_count": 84,
   "metadata": {},
   "outputs": [
    {
     "name": "stdout",
     "output_type": "stream",
     "text": [
      "Model Accuracy: 0.5517241379310345\n"
     ]
    }
   ],
   "source": [
    "# fitting knn with best parameters and undersampled data\n",
    "# Import the necessary libraries\n",
    "from sklearn.neighbors import KNeighborsClassifier\n",
    "\n",
    "# Create a k-nearest neighbors model\n",
    "knn = KNeighborsClassifier(**best_params)\n",
    "\n",
    "# Fit the model to the undersampled training data\n",
    "knn.fit(X_train_res, y_train_res)\n",
    "\n",
    "# Predict the labels for the test data\n",
    "y_pred = knn.predict(X_test)\n",
    "\n",
    "# Evaluate the model\n",
    "accuracy = knn.score(X_test, y_test)\n",
    "print(\"Model Accuracy:\", accuracy)"
   ]
  },
  {
   "cell_type": "code",
   "execution_count": 85,
   "metadata": {},
   "outputs": [
    {
     "data": {
      "text/html": [
       "<div>\n",
       "<style scoped>\n",
       "    .dataframe tbody tr th:only-of-type {\n",
       "        vertical-align: middle;\n",
       "    }\n",
       "\n",
       "    .dataframe tbody tr th {\n",
       "        vertical-align: top;\n",
       "    }\n",
       "\n",
       "    .dataframe thead th {\n",
       "        text-align: right;\n",
       "    }\n",
       "</style>\n",
       "<table border=\"1\" class=\"dataframe\">\n",
       "  <thead>\n",
       "    <tr style=\"text-align: right;\">\n",
       "      <th></th>\n",
       "      <th>is_anomaly</th>\n",
       "    </tr>\n",
       "  </thead>\n",
       "  <tbody>\n",
       "    <tr>\n",
       "      <th>0</th>\n",
       "      <td>0.0</td>\n",
       "    </tr>\n",
       "    <tr>\n",
       "      <th>1</th>\n",
       "      <td>1.0</td>\n",
       "    </tr>\n",
       "    <tr>\n",
       "      <th>2</th>\n",
       "      <td>0.0</td>\n",
       "    </tr>\n",
       "    <tr>\n",
       "      <th>3</th>\n",
       "      <td>0.0</td>\n",
       "    </tr>\n",
       "    <tr>\n",
       "      <th>4</th>\n",
       "      <td>1.0</td>\n",
       "    </tr>\n",
       "  </tbody>\n",
       "</table>\n",
       "</div>"
      ],
      "text/plain": [
       "   is_anomaly\n",
       "0         0.0\n",
       "1         1.0\n",
       "2         0.0\n",
       "3         0.0\n",
       "4         1.0"
      ]
     },
     "execution_count": 85,
     "metadata": {},
     "output_type": "execute_result"
    }
   ],
   "source": [
    "# making predictions on test data\n",
    "testt= test.drop(columns=['id'], axis=1)\n",
    "preds = logreg_best.predict(testt)\n",
    "\n",
    "preds = pd.DataFrame(preds, columns=['is_anomaly'])\n",
    "preds.head()"
   ]
  },
  {
   "cell_type": "code",
   "execution_count": 86,
   "metadata": {},
   "outputs": [],
   "source": [
    "# exporting predictions to csv\n",
    "preds.to_csv('submissions.csv', index=False)\n"
   ]
  }
 ],
 "metadata": {
  "kernelspec": {
   "display_name": "learn-env",
   "language": "python",
   "name": "python3"
  },
  "language_info": {
   "codemirror_mode": {
    "name": "ipython",
    "version": 3
   },
   "file_extension": ".py",
   "mimetype": "text/x-python",
   "name": "python",
   "nbconvert_exporter": "python",
   "pygments_lexer": "ipython3",
   "version": "3.10.11"
  }
 },
 "nbformat": 4,
 "nbformat_minor": 2
}
